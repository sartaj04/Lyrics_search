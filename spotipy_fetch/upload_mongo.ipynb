{
	"cells": [
		{
			"cell_type": "code",
			"execution_count": 4,
			"metadata": {},
			"outputs": [],
			"source": [
				"from Mongo_Collection import MongoCollection\n",
				"#TODO\n",
				"start_page, end_page = 0, 1\n",
				"\n",
				"for insert_type in [\"artist\" ,  \"album\" ,  \"track\"]:\n",
				"  print(f\"Now uploading ... {insert_type}\")\n",
				"  col = MongoCollection(collection= f\"{insert_type}s\")\n",
				"  artist_export_dir = (f\"track_extra_dataset/{insert_type}_data_{start_page:02d}_{end_page:02d}.json\")\n",
				"  col.insert_mongo(artist_export_dir)"
			]
		}
	],
	"metadata": {
		"kernelspec": {
			"display_name": "Python 3",
			"language": "python",
			"name": "python3"
		},
		"language_info": {
			"codemirror_mode": {
				"name": "ipython",
				"version": 3
			},
			"file_extension": ".py",
			"mimetype": "text/x-python",
			"name": "python",
			"nbconvert_exporter": "python",
			"pygments_lexer": "ipython3",
			"version": "3.9.13"
		},
		"orig_nbformat": 4
	},
	"nbformat": 4,
	"nbformat_minor": 2
}
