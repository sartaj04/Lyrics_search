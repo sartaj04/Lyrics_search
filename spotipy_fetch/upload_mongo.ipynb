{
	"cells": [
		{
			"cell_type": "code",
			"execution_count": 2,
			"metadata": {},
			"outputs": [],
			"source": [
				"from Mongo_Collection import MongoCollection"
			]
		},
		{
			"cell_type": "code",
			"execution_count": null,
			"metadata": {},
			"outputs": [],
			"source": [
				"# upload image url\n",
				"col = MongoCollection(collection= \"tracks\")\n",
				"col.update_image_url(\"kaggle_image.csv\")"
			]
		},
		{
			"cell_type": "code",
			"execution_count": 1,
			"metadata": {},
			"outputs": [
				{
					"name": "stdout",
					"output_type": "stream",
					"text": [
						"Now uploading ... artist\n",
						"Total pages : 2\n",
						"Now uploading ... album\n",
						"Total pages : 2\n",
						"Now uploading ... track\n",
						"Total pages : 3\n"
					]
				}
			],
			"source": [
				"#upload new data\n",
				"start_page, end_page = 131, 140\n",
				"\n",
				"for insert_type in [\"artist\" ,  \"album\" ,  \"track\"]:\n",
				"  print(f\"Now uploading ... {insert_type}\")\n",
				"  col = MongoCollection(collection= f\"{insert_type}s\")\n",
				"  artist_export_dir = (f\"track_extra_dataset/{insert_type}_data_{start_page:02d}_{end_page:02d}.json\")\n",
				"  col.insert_mongo(artist_export_dir)"
			]
		},
		{
			"cell_type": "code",
			"execution_count": 15,
			"metadata": {},
			"outputs": [],
			"source": [
				"import pandas as pd\n",
				"with open(\"albums_small.json\", \"r\", encoding=\"utf-8\") as f:\n",
				"    artists_df = pd.read_json(f)\n",
				"    artists = artists_df.to_dict(orient=\"records\")"
			]
		},
		{
			"cell_type": "code",
			"execution_count": 16,
			"metadata": {},
			"outputs": [],
			"source": [
				"from bson.objectid import ObjectId\n",
				"for artist in artists:\n",
				"  artist[\"_id\"] = ObjectId(artist[\"_id\"])"
			]
		},
		{
			"cell_type": "code",
			"execution_count": 6,
			"metadata": {},
			"outputs": [],
			"source": [
				"col = MongoCollection(collection= \"tracks\")"
			]
		},
		{
			"cell_type": "code",
			"execution_count": 9,
			"metadata": {},
			"outputs": [
				{
					"data": {
						"text/plain": [
							"<pymongo.results.UpdateResult at 0x1d27f8d13d0>"
						]
					},
					"execution_count": 9,
					"metadata": {},
					"output_type": "execute_result"
				}
			],
			"source": [
				"col.col.update_many(\n",
				"    {\"lyrics\": \"[Instrumental]\"},\n",
				"    {\n",
				"        \"$set\": { \"lyrics\" : \"TBD\" }\n",
				"    },\n",
				"    upsert=False,\n",
				")"
			]
		}
	],
	"metadata": {
		"kernelspec": {
			"display_name": "Python 3",
			"language": "python",
			"name": "python3"
		},
		"language_info": {
			"codemirror_mode": {
				"name": "ipython",
				"version": 3
			},
			"file_extension": ".py",
			"mimetype": "text/x-python",
			"name": "python",
			"nbconvert_exporter": "python",
			"pygments_lexer": "ipython3",
			"version": "3.9.13"
		},
		"orig_nbformat": 4
	},
	"nbformat": 4,
	"nbformat_minor": 2
}
